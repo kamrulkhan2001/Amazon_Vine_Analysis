{
 "cells": [
  {
   "cell_type": "code",
   "execution_count": 1,
   "metadata": {
    "colab": {
     "base_uri": "https://localhost:8080/"
    },
    "id": "BrOP5vTzKjDv",
    "outputId": "03598950-58f9-4f86-c61c-1c01ee2119f8"
   },
   "outputs": [
    {
     "name": "stdout",
     "output_type": "stream",
     "text": [
      "Get:1 https://cloud.r-project.org/bin/linux/ubuntu bionic-cran40/ InRelease [3,626 B]\n",
      "Ign:2 https://developer.download.nvidia.com/compute/cuda/repos/ubuntu1804/x86_64  InRelease\n",
      "Get:3 http://security.ubuntu.com/ubuntu bionic-security InRelease [88.7 kB]\n",
      "Get:4 http://ppa.launchpad.net/c2d4u.team/c2d4u4.0+/ubuntu bionic InRelease [15.9 kB]\n",
      "Hit:5 http://archive.ubuntu.com/ubuntu bionic InRelease\n",
      "Ign:6 https://developer.download.nvidia.com/compute/machine-learning/repos/ubuntu1804/x86_64  InRelease\n",
      "Get:7 https://developer.download.nvidia.com/compute/cuda/repos/ubuntu1804/x86_64  Release [697 B]\n",
      "Hit:8 https://developer.download.nvidia.com/compute/machine-learning/repos/ubuntu1804/x86_64  Release\n",
      "Get:9 https://developer.download.nvidia.com/compute/cuda/repos/ubuntu1804/x86_64  Release.gpg [836 B]\n",
      "Get:10 http://archive.ubuntu.com/ubuntu bionic-updates InRelease [88.7 kB]\n",
      "Get:11 http://ppa.launchpad.net/graphics-drivers/ppa/ubuntu bionic InRelease [21.3 kB]\n",
      "Get:12 https://cloud.r-project.org/bin/linux/ubuntu bionic-cran40/ Packages [40.3 kB]\n",
      "Get:13 http://archive.ubuntu.com/ubuntu bionic-backports InRelease [74.6 kB]\n",
      "Ign:15 https://developer.download.nvidia.com/compute/cuda/repos/ubuntu1804/x86_64  Packages\n",
      "Get:15 https://developer.download.nvidia.com/compute/cuda/repos/ubuntu1804/x86_64  Packages [405 kB]\n",
      "Get:16 http://ppa.launchpad.net/c2d4u.team/c2d4u4.0+/ubuntu bionic/main Sources [1,687 kB]\n",
      "Get:17 http://security.ubuntu.com/ubuntu bionic-security/universe amd64 Packages [1,354 kB]\n",
      "Get:18 http://archive.ubuntu.com/ubuntu bionic-updates/main amd64 Packages [2,167 kB]\n",
      "Get:19 http://security.ubuntu.com/ubuntu bionic-security/main amd64 Packages [1,750 kB]\n",
      "Get:20 http://archive.ubuntu.com/ubuntu bionic-updates/universe amd64 Packages [2,119 kB]\n",
      "Get:21 http://ppa.launchpad.net/c2d4u.team/c2d4u4.0+/ubuntu bionic/main amd64 Packages [864 kB]\n",
      "Get:22 http://ppa.launchpad.net/graphics-drivers/ppa/ubuntu bionic/main amd64 Packages [48.9 kB]\n",
      "Fetched 10.7 MB in 3s (3,512 kB/s)\n",
      "Reading package lists... Done\n"
     ]
    }
   ],
   "source": [
    "import os\n",
    "# Find the latest version of spark 2.0  from http://www-us.apache.org/dist/spark/ and enter as the spark version\n",
    "# For example:\n",
    "# spark_version = 'spark-3.0.0'\n",
    "spark_version = 'spark-3.0.1'\n",
    "os.environ['SPARK_VERSION']=spark_version\n",
    "\n",
    "# Install Spark and Java\n",
    "!apt-get update\n",
    "!apt-get install openjdk-11-jdk-headless -qq > /dev/null\n",
    "!wget -q http://www-us.apache.org/dist/spark/$SPARK_VERSION/$SPARK_VERSION-bin-hadoop2.7.tgz\n",
    "!tar xf $SPARK_VERSION-bin-hadoop2.7.tgz\n",
    "!pip install -q findspark\n",
    "\n",
    "# Set Environment Variables\n",
    "import os\n",
    "os.environ[\"JAVA_HOME\"] = \"/usr/lib/jvm/java-11-openjdk-amd64\"\n",
    "os.environ[\"SPARK_HOME\"] = f\"/content/{spark_version}-bin-hadoop2.7\"\n",
    "\n",
    "# Start a SparkSession\n",
    "import findspark\n",
    "findspark.init()"
   ]
  },
  {
   "cell_type": "code",
   "execution_count": 2,
   "metadata": {
    "colab": {
     "base_uri": "https://localhost:8080/"
    },
    "id": "k7pLTaeMKw1k",
    "outputId": "20de839b-0145-4a04-93f6-e2d1be636f2a"
   },
   "outputs": [
    {
     "name": "stdout",
     "output_type": "stream",
     "text": [
      "--2020-11-07 00:46:43--  https://jdbc.postgresql.org/download/postgresql-42.2.16.jar\n",
      "Resolving jdbc.postgresql.org (jdbc.postgresql.org)... 72.32.157.228, 2001:4800:3e1:1::228\n",
      "Connecting to jdbc.postgresql.org (jdbc.postgresql.org)|72.32.157.228|:443... connected.\n",
      "HTTP request sent, awaiting response... 200 OK\n",
      "Length: 1002883 (979K) [application/java-archive]\n",
      "Saving to: ‘postgresql-42.2.16.jar’\n",
      "\n",
      "postgresql-42.2.16. 100%[===================>] 979.38K  5.47MB/s    in 0.2s    \n",
      "\n",
      "2020-11-07 00:46:44 (5.47 MB/s) - ‘postgresql-42.2.16.jar’ saved [1002883/1002883]\n",
      "\n"
     ]
    }
   ],
   "source": [
    "# Download the Postgres driver that will allow Spark to interact with Postgres.\n",
    "!wget https://jdbc.postgresql.org/download/postgresql-42.2.16.jar"
   ]
  },
  {
   "cell_type": "code",
   "execution_count": 3,
   "metadata": {
    "id": "qDcF7AUzK3B7"
   },
   "outputs": [],
   "source": [
    "from pyspark.sql import SparkSession\n",
    "spark = SparkSession.builder.appName(\"BigData-Challenge\").config(\"spark.driver.extraClassPath\",\"/content/postgresql-42.2.16.jar\").getOrCreate()"
   ]
  },
  {
   "cell_type": "code",
   "execution_count": 4,
   "metadata": {
    "colab": {
     "base_uri": "https://localhost:8080/"
    },
    "id": "auGftgnJK5G_",
    "outputId": "fa431d28-461b-415c-f0de-ab22dd2ab26e"
   },
   "outputs": [
    {
     "name": "stdout",
     "output_type": "stream",
     "text": [
      "+-----------+-----------+--------------+----------+--------------+--------------------+----------------+-----------+-------------+-----------+----+-----------------+--------------------+--------------------+-----------+\n",
      "|marketplace|customer_id|     review_id|product_id|product_parent|       product_title|product_category|star_rating|helpful_votes|total_votes|vine|verified_purchase|     review_headline|         review_body|review_date|\n",
      "+-----------+-----------+--------------+----------+--------------+--------------------+----------------+-----------+-------------+-----------+----+-----------------+--------------------+--------------------+-----------+\n",
      "|         US|   28794885| REAKC26P07MDN|B00Q0K9604|     510387886|(8-Pack) EZwhelp ...|    Pet Products|          5|            0|          0|   N|                Y|A great purchase ...|Best belly bands ...| 2015-08-31|\n",
      "|         US|   11488901|R3NU7OMZ4HQIEG|B00MBW5O9W|     912374672|Warren Eckstein's...|    Pet Products|          2|            0|          1|   N|                Y|My dogs love Hugs...|My dogs love Hugs...| 2015-08-31|\n",
      "|         US|   43214993|R14QJW3XF8QO1P|B0084OHUIO|     902215727|Tyson's True Chew...|    Pet Products|          5|            0|          0|   N|                Y|I have been purch...|I have been purch...| 2015-08-31|\n",
      "|         US|   12835065|R2HB7AX0394ZGY|B001GS71K2|     568880110|Soft Side Pet Cra...|    Pet Products|          5|            0|          0|   N|                Y|it is easy to ope...|It is extremely w...| 2015-08-31|\n",
      "|         US|   26334022| RGKMPDQGSAHR3|B004ABH1LG|     692846826|EliteField 3-Door...|    Pet Products|          5|            0|          0|   N|                Y|           Dog crate|Worked really wel...| 2015-08-31|\n",
      "|         US|   22283621|R1DJCVPQGCV66E|B00AX0LFM4|     590674141|Carlson 68-Inch W...|    Pet Products|          5|            0|          0|   N|                Y|          Five Stars|I love my gates! ...| 2015-08-31|\n",
      "|         US|   14469895|R3V52EAWLPBFQG|B00DQFZGZ0|     688538603|Dog Seat Cover Wi...|    Pet Products|          3|            0|          0|   N|                Y|Seat belt tugs on...|Didn't quite work...| 2015-08-31|\n",
      "|         US|   50896354|R3DKO8J1J28QBI|B00DIRF9US|     742358789|The Bird Catcher ...|    Pet Products|          2|            0|          0|   N|                Y|Great Pole, but S...|I had the origina...| 2015-08-31|\n",
      "|         US|   18440567| R764DBXGRNECG|B00JRCBFUG|     869798483|Cat Bed - Purrfec...|    Pet Products|          5|            1|          1|   N|                N|     My cat loves it|The pad is very s...| 2015-08-31|\n",
      "|         US|   50502362| RW1853GAT0Z9F|B000L3XYZ4|     501118658|PetSafe Drinkwell...|    Pet Products|          5|            0|          0|   N|                Y|          Five Stars|My cat drinks mor...| 2015-08-31|\n",
      "|         US|   33930128|R33GITXNUF1AD4|B00BOEXWFG|     454737777|Contech ZenDog Ca...|    Pet Products|          2|            0|          0|   N|                Y|Also had to pull ...|Much smaller than...| 2015-08-31|\n",
      "|         US|   43534290|R1H7AVM81TAYRV|B001HBBQKY|     420905252|Wellness Crunchy ...|    Pet Products|          1|            2|          2|   N|                Y|DO NOT PURCHASE -...|I used to love th...| 2015-08-31|\n",
      "|         US|   45555864|R2ZOYAQZNNZZWV|B007O1FHB0|     302588963|Rx Vitamins Essen...|    Pet Products|          5|            0|          0|   N|                Y|          Five Stars|Recommended by my...| 2015-08-31|\n",
      "|         US|   11147406|R2FN1H3CGW6J8H|B001P3NU30|     525778264|Virbac C.E.T. Enz...|    Pet Products|          1|            0|          0|   N|                Y|Received wrong pr...|Yes I  ordered fo...| 2015-08-31|\n",
      "|         US|    6495678| RJB41Q575XNG4|B00ZP6HS6S|     414117299|Kitty Shack - 2 i...|    Pet Products|          5|            0|          3|   N|                Y|          Five Stars|      It falls apart| 2015-08-31|\n",
      "|         US|    2019416|R28W8BM1587CPF|B00IP05CUA|     833937853|Wellness Kittles ...|    Pet Products|          5|            0|          0|   N|                Y|kitty is ravenous...|My cat really lov...| 2015-08-31|\n",
      "|         US|   40459386|R1II0M01NIG293|B001U8Y598|      85343577|OmniPet Anti-Ant ...|    Pet Products|          2|            0|          0|   N|                N|Maybe other speci...|This bowl is not ...| 2015-08-31|\n",
      "|         US|   23126800| RMB8N0DBRH34O|B011AY4JWO|     499241195|K9KONNECTION [New...|    Pet Products|          5|            1|          1|   N|                Y|This works, dog n...|I have a small do...| 2015-08-31|\n",
      "|         US|   30238476|R24WB6A6WVIPU6|B00DDSHE5A|     409532388|SUNSEED COMPANY 3...|    Pet Products|          5|            0|          0|   N|                Y|    Yummy for Bunny!|Bunny loves it! E...| 2015-08-31|\n",
      "|         US|   35113999| ROCJSH0P9YSRW|B00PJW5OR8|     259271919|CXB1983(TM)Cute P...|    Pet Products|          5|            0|          0|   N|                Y|excellent price, ...|Petfect,,quality ...| 2015-08-31|\n",
      "+-----------+-----------+--------------+----------+--------------+--------------------+----------------+-----------+-------------+-----------+----+-----------------+--------------------+--------------------+-----------+\n",
      "only showing top 20 rows\n",
      "\n"
     ]
    }
   ],
   "source": [
    "from pyspark import SparkFiles\n",
    "url = \"https://s3.amazonaws.com/amazon-reviews-pds/tsv/amazon_reviews_us_Pet_Products_v1_00.tsv.gz\"\n",
    "spark.sparkContext.addFile(url)\n",
    "df = spark.read.option(\"encoding\", \"UTF-8\").csv(SparkFiles.get(\"\"), sep=\"\\t\", header=True, inferSchema=True)\n",
    "df.show()"
   ]
  },
  {
   "cell_type": "code",
   "execution_count": 43,
   "metadata": {
    "colab": {
     "base_uri": "https://localhost:8080/"
    },
    "id": "u2HudJRzLDHu",
    "outputId": "f009155c-a9e8-433d-fcf4-170880bc3280"
   },
   "outputs": [
    {
     "name": "stdout",
     "output_type": "stream",
     "text": [
      "+--------------+-----------+-------------+-----------+----+-----------------+\n",
      "|     review_id|star_rating|helpful_votes|total_votes|vine|verified_purchase|\n",
      "+--------------+-----------+-------------+-----------+----+-----------------+\n",
      "| REAKC26P07MDN|          5|            0|          0|   N|                Y|\n",
      "|R3NU7OMZ4HQIEG|          2|            0|          1|   N|                Y|\n",
      "|R14QJW3XF8QO1P|          5|            0|          0|   N|                Y|\n",
      "|R2HB7AX0394ZGY|          5|            0|          0|   N|                Y|\n",
      "| RGKMPDQGSAHR3|          5|            0|          0|   N|                Y|\n",
      "|R1DJCVPQGCV66E|          5|            0|          0|   N|                Y|\n",
      "|R3V52EAWLPBFQG|          3|            0|          0|   N|                Y|\n",
      "|R3DKO8J1J28QBI|          2|            0|          0|   N|                Y|\n",
      "| R764DBXGRNECG|          5|            1|          1|   N|                N|\n",
      "| RW1853GAT0Z9F|          5|            0|          0|   N|                Y|\n",
      "|R33GITXNUF1AD4|          2|            0|          0|   N|                Y|\n",
      "|R1H7AVM81TAYRV|          1|            2|          2|   N|                Y|\n",
      "|R2ZOYAQZNNZZWV|          5|            0|          0|   N|                Y|\n",
      "|R2FN1H3CGW6J8H|          1|            0|          0|   N|                Y|\n",
      "| RJB41Q575XNG4|          5|            0|          3|   N|                Y|\n",
      "|R28W8BM1587CPF|          5|            0|          0|   N|                Y|\n",
      "|R1II0M01NIG293|          2|            0|          0|   N|                N|\n",
      "| RMB8N0DBRH34O|          5|            1|          1|   N|                Y|\n",
      "|R24WB6A6WVIPU6|          5|            0|          0|   N|                Y|\n",
      "| ROCJSH0P9YSRW|          5|            0|          0|   N|                Y|\n",
      "+--------------+-----------+-------------+-----------+----+-----------------+\n",
      "only showing top 20 rows\n",
      "\n"
     ]
    }
   ],
   "source": [
    "# Create the vine_table DataFrame\n",
    "vine_df = df.select([\"review_id\", \"star_rating\", \"helpful_votes\", \"total_votes\", \"vine\", \"verified_purchase\"])\n",
    "vine_df.show()"
   ]
  },
  {
   "cell_type": "code",
   "execution_count": 44,
   "metadata": {
    "colab": {
     "base_uri": "https://localhost:8080/"
    },
    "id": "EDE-HLqiLjYz",
    "outputId": "f8cd7ea0-6260-4d49-84a9-48c4b0cb0a78"
   },
   "outputs": [
    {
     "name": "stdout",
     "output_type": "stream",
     "text": [
      "+--------------+-----------+-------------+-----------+----+-----------------+\n",
      "|     review_id|star_rating|helpful_votes|total_votes|vine|verified_purchase|\n",
      "+--------------+-----------+-------------+-----------+----+-----------------+\n",
      "|R21KC552Y6HL8X|          1|           27|         31|   N|                Y|\n",
      "| RX9WC9FTIR1XR|          5|           25|         25|   N|                Y|\n",
      "| RGDCOU1KBHMNG|          3|           29|         31|   N|                Y|\n",
      "| RVTYWID2TPMMY|          2|           35|         42|   N|                Y|\n",
      "|R2CMPZ5VESGRLY|          4|           27|         28|   N|                Y|\n",
      "|R3VQPJZ54B55BA|          5|           62|         64|   N|                N|\n",
      "|R24QM6D7FEDZ5M|          2|           36|         43|   N|                Y|\n",
      "|R3A1VQ3SQDXEJ3|          5|           20|         20|   N|                Y|\n",
      "|  R39GSNW76GYF|          1|           20|         23|   N|                Y|\n",
      "| RPJLR6MFDPXXE|          5|           35|         36|   N|                Y|\n",
      "|R34X0ZGVB3YGYO|          5|           47|         47|   N|                Y|\n",
      "|R2C9O1BOV14Q0Z|          1|           62|         79|   N|                Y|\n",
      "| RM6ZH5J3XDNHK|          5|           79|         87|   N|                Y|\n",
      "|R2E363K75EMW4K|          5|           66|         69|   N|                Y|\n",
      "|R2VJII8VKSJHDF|          1|           24|         29|   N|                N|\n",
      "|R2U35Y2P27M13E|          1|           43|         45|   N|                Y|\n",
      "| RLMZOQL11VHBX|          5|           23|         24|   N|                Y|\n",
      "|R3C6CQQRRA8SYP|          5|           52|         58|   N|                Y|\n",
      "|R3T7YOX0AEDZL3|          1|           45|         47|   N|                N|\n",
      "|R176V3AYS3R4HG|          5|           26|         27|   N|                N|\n",
      "+--------------+-----------+-------------+-----------+----+-----------------+\n",
      "only showing top 20 rows\n",
      "\n"
     ]
    }
   ],
   "source": [
    "# Challenge 2.1 Filter total_votes column\n",
    "total_votes_filtered_df = vine_df.filter((df[\"total_votes\"]>=20))\n",
    "total_votes_filtered_df.show()"
   ]
  },
  {
   "cell_type": "code",
   "execution_count": 48,
   "metadata": {
    "colab": {
     "base_uri": "https://localhost:8080/"
    },
    "id": "XGhrqtvcMvTk",
    "outputId": "fa88dfc3-f938-49ff-aa8d-98325a27f619"
   },
   "outputs": [
    {
     "name": "stdout",
     "output_type": "stream",
     "text": [
      "+--------------+-----------+-------------+-----------+----+-----------------+\n",
      "|     review_id|star_rating|helpful_votes|total_votes|vine|verified_purchase|\n",
      "+--------------+-----------+-------------+-----------+----+-----------------+\n",
      "|R21KC552Y6HL8X|          1|           27|         31|   N|                Y|\n",
      "| RX9WC9FTIR1XR|          5|           25|         25|   N|                Y|\n",
      "| RGDCOU1KBHMNG|          3|           29|         31|   N|                Y|\n",
      "| RVTYWID2TPMMY|          2|           35|         42|   N|                Y|\n",
      "|R2CMPZ5VESGRLY|          4|           27|         28|   N|                Y|\n",
      "|R3VQPJZ54B55BA|          5|           62|         64|   N|                N|\n",
      "|R24QM6D7FEDZ5M|          2|           36|         43|   N|                Y|\n",
      "|R3A1VQ3SQDXEJ3|          5|           20|         20|   N|                Y|\n",
      "|  R39GSNW76GYF|          1|           20|         23|   N|                Y|\n",
      "| RPJLR6MFDPXXE|          5|           35|         36|   N|                Y|\n",
      "|R34X0ZGVB3YGYO|          5|           47|         47|   N|                Y|\n",
      "|R2C9O1BOV14Q0Z|          1|           62|         79|   N|                Y|\n",
      "| RM6ZH5J3XDNHK|          5|           79|         87|   N|                Y|\n",
      "|R2E363K75EMW4K|          5|           66|         69|   N|                Y|\n",
      "|R2VJII8VKSJHDF|          1|           24|         29|   N|                N|\n",
      "|R2U35Y2P27M13E|          1|           43|         45|   N|                Y|\n",
      "| RLMZOQL11VHBX|          5|           23|         24|   N|                Y|\n",
      "|R3C6CQQRRA8SYP|          5|           52|         58|   N|                Y|\n",
      "|R3T7YOX0AEDZL3|          1|           45|         47|   N|                N|\n",
      "|R176V3AYS3R4HG|          5|           26|         27|   N|                N|\n",
      "+--------------+-----------+-------------+-----------+----+-----------------+\n",
      "only showing top 20 rows\n",
      "\n"
     ]
    }
   ],
   "source": [
    "# Challenge 2.2 Filter helpful_votes column\n",
    "helpful_votes_filtered_df = total_votes_filtered_df.filter(((total_votes_filtered_df[\"helpful_votes\"]) / (total_votes_filtered_df[\"total_votes\"]))>=0.5)\n",
    "helpful_votes_filtered_df.show()"
   ]
  },
  {
   "cell_type": "code",
   "execution_count": 50,
   "metadata": {
    "colab": {
     "base_uri": "https://localhost:8080/"
    },
    "id": "1LBODIfPPqUw",
    "outputId": "628c6492-016a-4e0e-a116-ace8fa84e953"
   },
   "outputs": [
    {
     "name": "stdout",
     "output_type": "stream",
     "text": [
      "+--------------+-----------+-------------+-----------+----+-----------------+\n",
      "|     review_id|star_rating|helpful_votes|total_votes|vine|verified_purchase|\n",
      "+--------------+-----------+-------------+-----------+----+-----------------+\n",
      "|R3A71VR1JZD8WF|          2|           27|         30|   Y|                N|\n",
      "|R16OMUJIGI18JZ|          5|           72|         72|   Y|                N|\n",
      "|R3TS8ZP2FHQ9XR|          5|           39|         42|   Y|                N|\n",
      "|R2MHP919VZN7DI|          5|           29|         30|   Y|                N|\n",
      "| RD2BCTVS59A5L|          2|           20|         20|   Y|                N|\n",
      "|R1JUJLXQ2CMWKF|          4|           25|         26|   Y|                N|\n",
      "|R2T7YE0IFI6N9L|          3|           24|         25|   Y|                N|\n",
      "|R25FI3J7WWOYXM|          3|           55|         58|   Y|                N|\n",
      "|R3P3U4EOWIUD50|          3|           27|         36|   Y|                N|\n",
      "|R3C7MKX7MO6XUC|          5|          216|        219|   Y|                N|\n",
      "|R1DFDDK1ZWKN3D|          2|           61|         65|   Y|                N|\n",
      "|R38G7BRBA2LGGV|          3|           47|         54|   Y|                N|\n",
      "|R2XQXWNEBSB9WO|          4|           52|         56|   Y|                N|\n",
      "|R1UFK241B2KN48|          4|          375|        378|   Y|                N|\n",
      "|R3H9CGK58BVHI5|          4|           42|         46|   Y|                N|\n",
      "|R3FKBT77ZTUPLQ|          5|           15|         20|   Y|                N|\n",
      "|R3NSXBUR3O1CE8|          5|           21|         22|   Y|                N|\n",
      "|R13JI50KH7BTBU|          4|           29|         30|   Y|                N|\n",
      "|R2LWQUQ6KB5ZN5|          4|           29|         36|   Y|                Y|\n",
      "|R1JORBU2J7HG3H|          5|           22|         25|   Y|                N|\n",
      "+--------------+-----------+-------------+-----------+----+-----------------+\n",
      "only showing top 20 rows\n",
      "\n"
     ]
    }
   ],
   "source": [
    "# Challenge 2.3 Filter vine column Y\n",
    "vine_yes_filtered_df = helpful_votes_filtered_df.filter((helpful_votes_filtered_df[\"vine\"] == \"Y\"))\n",
    "vine_yes_filtered_df.show()"
   ]
  },
  {
   "cell_type": "code",
   "execution_count": 51,
   "metadata": {
    "colab": {
     "base_uri": "https://localhost:8080/"
    },
    "id": "vBLwdAHSQr2n",
    "outputId": "22e11a8a-3ade-444e-a4ac-6e7fa3b9ffa9"
   },
   "outputs": [
    {
     "name": "stdout",
     "output_type": "stream",
     "text": [
      "+--------------+-----------+-------------+-----------+----+-----------------+\n",
      "|     review_id|star_rating|helpful_votes|total_votes|vine|verified_purchase|\n",
      "+--------------+-----------+-------------+-----------+----+-----------------+\n",
      "|R21KC552Y6HL8X|          1|           27|         31|   N|                Y|\n",
      "| RX9WC9FTIR1XR|          5|           25|         25|   N|                Y|\n",
      "| RGDCOU1KBHMNG|          3|           29|         31|   N|                Y|\n",
      "| RVTYWID2TPMMY|          2|           35|         42|   N|                Y|\n",
      "|R2CMPZ5VESGRLY|          4|           27|         28|   N|                Y|\n",
      "|R3VQPJZ54B55BA|          5|           62|         64|   N|                N|\n",
      "|R24QM6D7FEDZ5M|          2|           36|         43|   N|                Y|\n",
      "|R3A1VQ3SQDXEJ3|          5|           20|         20|   N|                Y|\n",
      "|  R39GSNW76GYF|          1|           20|         23|   N|                Y|\n",
      "| RPJLR6MFDPXXE|          5|           35|         36|   N|                Y|\n",
      "|R34X0ZGVB3YGYO|          5|           47|         47|   N|                Y|\n",
      "|R2C9O1BOV14Q0Z|          1|           62|         79|   N|                Y|\n",
      "| RM6ZH5J3XDNHK|          5|           79|         87|   N|                Y|\n",
      "|R2E363K75EMW4K|          5|           66|         69|   N|                Y|\n",
      "|R2VJII8VKSJHDF|          1|           24|         29|   N|                N|\n",
      "|R2U35Y2P27M13E|          1|           43|         45|   N|                Y|\n",
      "| RLMZOQL11VHBX|          5|           23|         24|   N|                Y|\n",
      "|R3C6CQQRRA8SYP|          5|           52|         58|   N|                Y|\n",
      "|R3T7YOX0AEDZL3|          1|           45|         47|   N|                N|\n",
      "|R176V3AYS3R4HG|          5|           26|         27|   N|                N|\n",
      "+--------------+-----------+-------------+-----------+----+-----------------+\n",
      "only showing top 20 rows\n",
      "\n"
     ]
    }
   ],
   "source": [
    "# Challenge 2.4 Filter vine column N\n",
    "vine_no_filtered_df = helpful_votes_filtered_df.filter((helpful_votes_filtered_df[\"vine\"] == \"N\"))\n",
    "vine_no_filtered_df.show()"
   ]
  },
  {
   "cell_type": "code",
   "execution_count": 56,
   "metadata": {
    "id": "xmLK6yN2Q_gT"
   },
   "outputs": [],
   "source": [
    "# Challenge 2.5 Total number of reviews\n",
    "total_yes = vine_yes_filtered_df.count()\n",
    "total_no = vine_no_filtered_df.count()"
   ]
  },
  {
   "cell_type": "code",
   "execution_count": 57,
   "metadata": {
    "colab": {
     "base_uri": "https://localhost:8080/"
    },
    "id": "O5cI1BiOextb",
    "outputId": "6e390118-f546-4fca-fdec-e10f9eaa0064"
   },
   "outputs": [
    {
     "name": "stdout",
     "output_type": "stream",
     "text": [
      "The total number of Vine reviews are: 170\n",
      "The total number of non-Vine reviews are: 37840\n"
     ]
    }
   ],
   "source": [
    "print('The total number of Vine reviews are:', total_yes)\n",
    "print('The total number of non-Vine reviews are:', total_no)"
   ]
  },
  {
   "cell_type": "code",
   "execution_count": 59,
   "metadata": {
    "id": "fp4K5qysRZA-"
   },
   "outputs": [],
   "source": [
    "# Challenge 2.5 Number of 5-star reviews\n",
    "yes_5star = vine_yes_filtered_df.filter((df[\"star_rating\"] == 5)).count()\n",
    "no_5star = vine_no_filtered_df.filter((df[\"star_rating\"] == 5)).count()"
   ]
  },
  {
   "cell_type": "code",
   "execution_count": 61,
   "metadata": {
    "colab": {
     "base_uri": "https://localhost:8080/"
    },
    "id": "8o6zn3XcfTD1",
    "outputId": "a19e80b8-5aa8-472b-82ca-711873785065"
   },
   "outputs": [
    {
     "name": "stdout",
     "output_type": "stream",
     "text": [
      "The total number of 5-star Vine reviews are: 65\n",
      "The total number of 5-star non-Vine reviews are: 20612\n"
     ]
    }
   ],
   "source": [
    "print('The total number of 5-star Vine reviews are:', yes_5star)\n",
    "print('The total number of 5-star non-Vine reviews are:', no_5star)"
   ]
  },
  {
   "cell_type": "code",
   "execution_count": 62,
   "metadata": {
    "id": "mqLXOk02RsqK"
   },
   "outputs": [],
   "source": [
    "# Challenge 2.5 % of 5-star reviews\n",
    "yes_percentage = vine_yes_filtered_df.filter((df[\"star_rating\"] == 5)).count() / vine_yes_filtered_df.count()\n",
    "no_percentage = vine_no_filtered_df.filter((df[\"star_rating\"] == 5)).count() / vine_no_filtered_df.count()"
   ]
  },
  {
   "cell_type": "code",
   "execution_count": 63,
   "metadata": {
    "colab": {
     "base_uri": "https://localhost:8080/"
    },
    "id": "7VxFfBQ3WgVL",
    "outputId": "badd28a2-ad1a-4e40-f500-f747f043c1a4"
   },
   "outputs": [
    {
     "name": "stdout",
     "output_type": "stream",
     "text": [
      "The percentage of Vine 5-star reviews are: 0.38235294117647056\n",
      "The percentage of non-Vine 5-star reviews are: 0.5447145877378435\n"
     ]
    }
   ],
   "source": [
    "print('The percentage of Vine 5-star reviews are:', yes_percentage)\n",
    "print('The percentage of non-Vine 5-star reviews are:', no_percentage)"
   ]
  },
  {
   "cell_type": "code",
   "execution_count": null,
   "metadata": {
    "id": "5358-gbwXHkk"
   },
   "outputs": [],
   "source": []
  }
 ],
 "metadata": {
  "colab": {
   "collapsed_sections": [],
   "name": "Vine_Review_Analysis.ipynb",
   "provenance": []
  },
  "kernelspec": {
   "display_name": "Python 3",
   "language": "python",
   "name": "python3"
  },
  "language_info": {
   "codemirror_mode": {
    "name": "ipython",
    "version": 3
   },
   "file_extension": ".py",
   "mimetype": "text/x-python",
   "name": "python",
   "nbconvert_exporter": "python",
   "pygments_lexer": "ipython3",
   "version": "3.7.6"
  }
 },
 "nbformat": 4,
 "nbformat_minor": 1
}
